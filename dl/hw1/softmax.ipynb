{
 "cells": [
  {
   "cell_type": "markdown",
   "metadata": {
    "tags": [
     "pdf-title"
    ]
   },
   "source": [
    "# Softmax exercise\n",
    "\n",
    "*Complete and hand in this completed worksheet (including its outputs and any supporting code outside of the worksheet) with your assignment submission. For more details see the [assignments page](http://vision.stanford.edu/teaching/cs231n/assignments.html) on the course website.*\n",
    "\n",
    "This exercise is analogous to the SVM exercise. You will:\n",
    "\n",
    "- implement a fully-vectorized **loss function** for the Softmax classifier\n",
    "- implement the fully-vectorized expression for its **analytic gradient**\n",
    "- **check your implementation** with numerical gradient\n",
    "- use a validation set to **tune the learning rate and regularization** strength\n",
    "- **optimize** the loss function with **SGD**\n",
    "- **visualize** the final learned weights\n"
   ]
  },
  {
   "cell_type": "code",
   "execution_count": 37,
   "metadata": {
    "tags": [
     "pdf-ignore"
    ]
   },
   "outputs": [
    {
     "name": "stdout",
     "output_type": "stream",
     "text": [
      "The autoreload extension is already loaded. To reload it, use:\n",
      "  %reload_ext autoreload\n"
     ]
    }
   ],
   "source": [
    "import random\n",
    "import numpy as np\n",
    "from cs231n.data_utils import load_CIFAR10\n",
    "import matplotlib.pyplot as plt\n",
    "\n",
    "%matplotlib inline\n",
    "plt.rcParams['figure.figsize'] = (10.0, 8.0) # set default size of plots\n",
    "plt.rcParams['image.interpolation'] = 'nearest'\n",
    "plt.rcParams['image.cmap'] = 'gray'\n",
    "\n",
    "# for auto-reloading extenrnal modules\n",
    "# see http://stackoverflow.com/questions/1907993/autoreload-of-modules-in-ipython\n",
    "%load_ext autoreload\n",
    "%autoreload 2"
   ]
  },
  {
   "cell_type": "code",
   "execution_count": 38,
   "metadata": {
    "tags": [
     "pdf-ignore"
    ]
   },
   "outputs": [
    {
     "name": "stdout",
     "output_type": "stream",
     "text": [
      "Train data shape:  (49000, 3073)\n",
      "Train labels shape:  (49000,)\n",
      "Validation data shape:  (1000, 3073)\n",
      "Validation labels shape:  (1000,)\n",
      "Test data shape:  (1000, 3073)\n",
      "Test labels shape:  (1000,)\n",
      "dev data shape:  (500, 3073)\n",
      "dev labels shape:  (500,)\n"
     ]
    }
   ],
   "source": [
    "def get_CIFAR10_data(num_training=49000, num_validation=1000, num_test=1000, num_dev=500):\n",
    "    \"\"\"\n",
    "    Load the CIFAR-10 dataset from disk and perform preprocessing to prepare\n",
    "    it for the linear classifier. These are the same steps as we used for the\n",
    "    SVM, but condensed to a single function.  \n",
    "    \"\"\"\n",
    "    # Load the raw CIFAR-10 data\n",
    "    cifar10_dir = 'cs231n/datasets/cifar-10-batches-py'\n",
    "    \n",
    "    # Cleaning up variables to prevent loading data multiple times (which may cause memory issue)\n",
    "    try:\n",
    "       del X_train, y_train\n",
    "       del X_test, y_test\n",
    "       print('Clear previously loaded data.')\n",
    "    except:\n",
    "       pass\n",
    "\n",
    "    X_train, y_train, X_test, y_test = load_CIFAR10(cifar10_dir)\n",
    "    \n",
    "    # subsample the data\n",
    "    mask = list(range(num_training, num_training + num_validation))\n",
    "    X_val = X_train[mask]\n",
    "    y_val = y_train[mask]\n",
    "    mask = list(range(num_training))\n",
    "    X_train = X_train[mask]\n",
    "    y_train = y_train[mask]\n",
    "    mask = list(range(num_test))\n",
    "    X_test = X_test[mask]\n",
    "    y_test = y_test[mask]\n",
    "    mask = np.random.choice(num_training, num_dev, replace=False)\n",
    "    X_dev = X_train[mask]\n",
    "    y_dev = y_train[mask]\n",
    "    \n",
    "    # Preprocessing: reshape the image data into rows\n",
    "    X_train = np.reshape(X_train, (X_train.shape[0], -1))\n",
    "    X_val = np.reshape(X_val, (X_val.shape[0], -1))\n",
    "    X_test = np.reshape(X_test, (X_test.shape[0], -1))\n",
    "    X_dev = np.reshape(X_dev, (X_dev.shape[0], -1))\n",
    "    \n",
    "    # Normalize the data: subtract the mean image\n",
    "    mean_image = np.mean(X_train, axis = 0)\n",
    "    X_train -= mean_image\n",
    "    X_val -= mean_image\n",
    "    X_test -= mean_image\n",
    "    X_dev -= mean_image\n",
    "    \n",
    "    # add bias dimension and transform into columns\n",
    "    X_train = np.hstack([X_train, np.ones((X_train.shape[0], 1))])\n",
    "    X_val = np.hstack([X_val, np.ones((X_val.shape[0], 1))])\n",
    "    X_test = np.hstack([X_test, np.ones((X_test.shape[0], 1))])\n",
    "    X_dev = np.hstack([X_dev, np.ones((X_dev.shape[0], 1))])\n",
    "    \n",
    "    return X_train, y_train, X_val, y_val, X_test, y_test, X_dev, y_dev\n",
    "\n",
    "\n",
    "# Invoke the above function to get our data.\n",
    "X_train, y_train, X_val, y_val, X_test, y_test, X_dev, y_dev = get_CIFAR10_data()\n",
    "print('Train data shape: ', X_train.shape)\n",
    "print('Train labels shape: ', y_train.shape)\n",
    "print('Validation data shape: ', X_val.shape)\n",
    "print('Validation labels shape: ', y_val.shape)\n",
    "print('Test data shape: ', X_test.shape)\n",
    "print('Test labels shape: ', y_test.shape)\n",
    "print('dev data shape: ', X_dev.shape)\n",
    "print('dev labels shape: ', y_dev.shape)"
   ]
  },
  {
   "cell_type": "markdown",
   "metadata": {},
   "source": [
    "## Softmax Classifier\n",
    "\n",
    "Your code for this section will all be written inside `cs231n/classifiers/softmax.py`.\n"
   ]
  },
  {
   "cell_type": "code",
   "execution_count": 39,
   "metadata": {},
   "outputs": [
    {
     "name": "stdout",
     "output_type": "stream",
     "text": [
      "loss: 2.370858\n",
      "sanity check: 2.302585\n"
     ]
    }
   ],
   "source": [
    "# First implement the naive softmax loss function with nested loops.\n",
    "# Open the file cs231n/classifiers/softmax.py and implement the\n",
    "# softmax_loss_naive function.\n",
    "\n",
    "from cs231n.classifiers.softmax import softmax_loss_naive\n",
    "import time\n",
    "\n",
    "# Generate a random softmax weight matrix and use it to compute the loss.\n",
    "W = np.random.randn(3073, 10) * 0.0001\n",
    "loss, grad = softmax_loss_naive(W, X_dev, y_dev, 0.0)\n",
    "\n",
    "# As a rough sanity check, our loss should be something close to -log(0.1).\n",
    "print('loss: %f' % loss)\n",
    "print('sanity check: %f' % (-np.log(0.1)))"
   ]
  },
  {
   "cell_type": "markdown",
   "metadata": {
    "tags": [
     "pdf-inline"
    ]
   },
   "source": [
    "**Inline Question 1**\n",
    "\n",
    "Why do we expect our loss to be close to -log(0.1)? Explain briefly.**\n",
    "\n",
    "$\\color{blue}{\\textit Your Answer:}$ *Because when error elements in W -> 0, the loss will close to -log(0.1).* \n",
    "\n"
   ]
  },
  {
   "cell_type": "code",
   "execution_count": 40,
   "metadata": {},
   "outputs": [
    {
     "name": "stdout",
     "output_type": "stream",
     "text": [
      "numerical: 2.982904 analytic: 2.982904, relative error: 1.677347e-08\n",
      "numerical: 1.544706 analytic: 1.544706, relative error: 2.894244e-08\n",
      "numerical: 1.283081 analytic: 1.283081, relative error: 2.200545e-08\n",
      "numerical: 0.438750 analytic: 0.438750, relative error: 2.050933e-08\n",
      "numerical: -0.989036 analytic: -0.989036, relative error: 1.531616e-08\n",
      "numerical: -1.145730 analytic: -1.145730, relative error: 3.611307e-08\n",
      "numerical: 1.261795 analytic: 1.261795, relative error: 1.505190e-08\n",
      "numerical: 1.195429 analytic: 1.195429, relative error: 2.567748e-08\n",
      "numerical: 2.256426 analytic: 2.256426, relative error: 1.268924e-08\n",
      "numerical: -1.516667 analytic: -1.516667, relative error: 3.488449e-08\n",
      "numerical: -1.763473 analytic: -1.763473, relative error: 1.496496e-08\n",
      "numerical: 0.485159 analytic: 0.485159, relative error: 5.516444e-08\n",
      "numerical: -0.997272 analytic: -0.997272, relative error: 1.066476e-08\n",
      "numerical: -0.576475 analytic: -0.576475, relative error: 3.291816e-08\n",
      "numerical: 0.208924 analytic: 0.208924, relative error: 7.472543e-08\n",
      "numerical: -0.511623 analytic: -0.511622, relative error: 3.096960e-08\n",
      "numerical: 0.125176 analytic: 0.125176, relative error: 5.166497e-07\n",
      "numerical: -0.435403 analytic: -0.435403, relative error: 2.247187e-08\n",
      "numerical: 2.968895 analytic: 2.968894, relative error: 2.261817e-08\n",
      "numerical: -0.576463 analytic: -0.576463, relative error: 5.393885e-08\n"
     ]
    }
   ],
   "source": [
    "# Complete the implementation of softmax_loss_naive and implement a (naive)\n",
    "# version of the gradient that uses nested loops.\n",
    "loss, grad = softmax_loss_naive(W, X_dev, y_dev, 0.0)\n",
    "\n",
    "# As we did for the SVM, use numeric gradient checking as a debugging tool.\n",
    "# The numeric gradient should be close to the analytic gradient.\n",
    "from cs231n.gradient_check import grad_check_sparse\n",
    "f = lambda w: softmax_loss_naive(w, X_dev, y_dev, 0.0)[0]\n",
    "grad_numerical = grad_check_sparse(f, W, grad, 10)\n",
    "\n",
    "# similar to SVM case, do another gradient check with regularization\n",
    "loss, grad = softmax_loss_naive(W, X_dev, y_dev, 5e1)\n",
    "f = lambda w: softmax_loss_naive(w, X_dev, y_dev, 5e1)[0]\n",
    "grad_numerical = grad_check_sparse(f, W, grad, 10)"
   ]
  },
  {
   "cell_type": "code",
   "execution_count": 41,
   "metadata": {},
   "outputs": [
    {
     "name": "stdout",
     "output_type": "stream",
     "text": [
      "naive loss: 2.370858e+00 computed in 0.126608s\n",
      "vectorized loss: 2.370858e+00 computed in 0.004333s\n",
      "Loss difference: 0.000000\n",
      "Gradient difference: 0.000000\n"
     ]
    }
   ],
   "source": [
    "# Now that we have a naive implementation of the softmax loss function and its gradient,\n",
    "# implement a vectorized version in softmax_loss_vectorized.\n",
    "# The two versions should compute the same results, but the vectorized version should be\n",
    "# much faster.\n",
    "tic = time.time()\n",
    "loss_naive, grad_naive = softmax_loss_naive(W, X_dev, y_dev, 0.000005)\n",
    "toc = time.time()\n",
    "print('naive loss: %e computed in %fs' % (loss_naive, toc - tic))\n",
    "\n",
    "from cs231n.classifiers.softmax import softmax_loss_vectorized\n",
    "tic = time.time()\n",
    "loss_vectorized, grad_vectorized = softmax_loss_vectorized(W, X_dev, y_dev, 0.000005)\n",
    "toc = time.time()\n",
    "print('vectorized loss: %e computed in %fs' % (loss_vectorized, toc - tic))\n",
    "\n",
    "# As we did for the SVM, we use the Frobenius norm to compare the two versions\n",
    "# of the gradient.\n",
    "grad_difference = np.linalg.norm(grad_naive - grad_vectorized, ord='fro')\n",
    "print('Loss difference: %f' % np.abs(loss_naive - loss_vectorized))\n",
    "print('Gradient difference: %f' % grad_difference)"
   ]
  },
  {
   "cell_type": "code",
   "execution_count": 42,
   "metadata": {
    "id": "tuning",
    "tags": [
     "code"
    ]
   },
   "outputs": [
    {
     "name": "stdout",
     "output_type": "stream",
     "text": [
      "lr 1.000000e-07 reg 2.500000e+04 train accuracy: 0.199878 val accuracy: 0.203000\n",
      "lr 1.000000e-07 reg 2.678571e+04 train accuracy: 0.205286 val accuracy: 0.223000\n",
      "lr 1.000000e-07 reg 2.857143e+04 train accuracy: 0.205204 val accuracy: 0.211000\n",
      "lr 1.000000e-07 reg 3.035714e+04 train accuracy: 0.198265 val accuracy: 0.197000\n",
      "lr 1.000000e-07 reg 3.214286e+04 train accuracy: 0.221633 val accuracy: 0.225000\n",
      "lr 1.000000e-07 reg 3.392857e+04 train accuracy: 0.209102 val accuracy: 0.219000\n",
      "lr 1.000000e-07 reg 3.571429e+04 train accuracy: 0.215898 val accuracy: 0.212000\n",
      "lr 1.000000e-07 reg 3.750000e+04 train accuracy: 0.226694 val accuracy: 0.228000\n",
      "lr 1.000000e-07 reg 3.928571e+04 train accuracy: 0.216898 val accuracy: 0.221000\n",
      "lr 1.000000e-07 reg 4.107143e+04 train accuracy: 0.236939 val accuracy: 0.241000\n",
      "lr 1.000000e-07 reg 4.285714e+04 train accuracy: 0.246878 val accuracy: 0.235000\n",
      "lr 1.000000e-07 reg 4.464286e+04 train accuracy: 0.234918 val accuracy: 0.255000\n",
      "lr 1.000000e-07 reg 4.642857e+04 train accuracy: 0.247449 val accuracy: 0.241000\n",
      "lr 1.000000e-07 reg 4.821429e+04 train accuracy: 0.242959 val accuracy: 0.252000\n",
      "lr 1.000000e-07 reg 5.000000e+04 train accuracy: 0.243714 val accuracy: 0.242000\n",
      "lr 1.285714e-07 reg 2.500000e+04 train accuracy: 0.235510 val accuracy: 0.238000\n",
      "lr 1.285714e-07 reg 2.678571e+04 train accuracy: 0.228633 val accuracy: 0.230000\n",
      "lr 1.285714e-07 reg 2.857143e+04 train accuracy: 0.240510 val accuracy: 0.261000\n",
      "lr 1.285714e-07 reg 3.035714e+04 train accuracy: 0.235980 val accuracy: 0.240000\n",
      "lr 1.285714e-07 reg 3.214286e+04 train accuracy: 0.242143 val accuracy: 0.234000\n",
      "lr 1.285714e-07 reg 3.392857e+04 train accuracy: 0.260204 val accuracy: 0.260000\n",
      "lr 1.285714e-07 reg 3.571429e+04 train accuracy: 0.267612 val accuracy: 0.254000\n",
      "lr 1.285714e-07 reg 3.750000e+04 train accuracy: 0.258388 val accuracy: 0.279000\n",
      "lr 1.285714e-07 reg 3.928571e+04 train accuracy: 0.268163 val accuracy: 0.281000\n",
      "lr 1.285714e-07 reg 4.107143e+04 train accuracy: 0.265857 val accuracy: 0.284000\n",
      "lr 1.285714e-07 reg 4.285714e+04 train accuracy: 0.276878 val accuracy: 0.295000\n",
      "lr 1.285714e-07 reg 4.464286e+04 train accuracy: 0.269837 val accuracy: 0.285000\n",
      "lr 1.285714e-07 reg 4.642857e+04 train accuracy: 0.268592 val accuracy: 0.278000\n",
      "lr 1.285714e-07 reg 4.821429e+04 train accuracy: 0.280122 val accuracy: 0.288000\n",
      "lr 1.285714e-07 reg 5.000000e+04 train accuracy: 0.280551 val accuracy: 0.285000\n",
      "lr 1.571429e-07 reg 2.500000e+04 train accuracy: 0.237122 val accuracy: 0.224000\n",
      "lr 1.571429e-07 reg 2.678571e+04 train accuracy: 0.264408 val accuracy: 0.271000\n",
      "lr 1.571429e-07 reg 2.857143e+04 train accuracy: 0.264837 val accuracy: 0.254000\n",
      "lr 1.571429e-07 reg 3.035714e+04 train accuracy: 0.264571 val accuracy: 0.278000\n",
      "lr 1.571429e-07 reg 3.214286e+04 train accuracy: 0.275429 val accuracy: 0.297000\n",
      "lr 1.571429e-07 reg 3.392857e+04 train accuracy: 0.280408 val accuracy: 0.284000\n",
      "lr 1.571429e-07 reg 3.571429e+04 train accuracy: 0.286551 val accuracy: 0.300000\n",
      "lr 1.571429e-07 reg 3.750000e+04 train accuracy: 0.285020 val accuracy: 0.297000\n",
      "lr 1.571429e-07 reg 3.928571e+04 train accuracy: 0.285918 val accuracy: 0.299000\n",
      "lr 1.571429e-07 reg 4.107143e+04 train accuracy: 0.289857 val accuracy: 0.314000\n",
      "lr 1.571429e-07 reg 4.285714e+04 train accuracy: 0.291776 val accuracy: 0.299000\n",
      "lr 1.571429e-07 reg 4.464286e+04 train accuracy: 0.295347 val accuracy: 0.326000\n",
      "lr 1.571429e-07 reg 4.642857e+04 train accuracy: 0.300673 val accuracy: 0.309000\n",
      "lr 1.571429e-07 reg 4.821429e+04 train accuracy: 0.296265 val accuracy: 0.306000\n",
      "lr 1.571429e-07 reg 5.000000e+04 train accuracy: 0.292571 val accuracy: 0.299000\n",
      "lr 1.857143e-07 reg 2.500000e+04 train accuracy: 0.272020 val accuracy: 0.309000\n",
      "lr 1.857143e-07 reg 2.678571e+04 train accuracy: 0.287490 val accuracy: 0.298000\n",
      "lr 1.857143e-07 reg 2.857143e+04 train accuracy: 0.286592 val accuracy: 0.309000\n",
      "lr 1.857143e-07 reg 3.035714e+04 train accuracy: 0.288633 val accuracy: 0.324000\n",
      "lr 1.857143e-07 reg 3.214286e+04 train accuracy: 0.294367 val accuracy: 0.315000\n",
      "lr 1.857143e-07 reg 3.392857e+04 train accuracy: 0.298490 val accuracy: 0.306000\n",
      "lr 1.857143e-07 reg 3.571429e+04 train accuracy: 0.297061 val accuracy: 0.307000\n",
      "lr 1.857143e-07 reg 3.750000e+04 train accuracy: 0.292878 val accuracy: 0.300000\n",
      "lr 1.857143e-07 reg 3.928571e+04 train accuracy: 0.305735 val accuracy: 0.323000\n",
      "lr 1.857143e-07 reg 4.107143e+04 train accuracy: 0.299714 val accuracy: 0.314000\n",
      "lr 1.857143e-07 reg 4.285714e+04 train accuracy: 0.301898 val accuracy: 0.320000\n",
      "lr 1.857143e-07 reg 4.464286e+04 train accuracy: 0.303204 val accuracy: 0.334000\n",
      "lr 1.857143e-07 reg 4.642857e+04 train accuracy: 0.298510 val accuracy: 0.322000\n",
      "lr 1.857143e-07 reg 4.821429e+04 train accuracy: 0.305347 val accuracy: 0.312000\n",
      "lr 1.857143e-07 reg 5.000000e+04 train accuracy: 0.299755 val accuracy: 0.312000\n",
      "lr 2.142857e-07 reg 2.500000e+04 train accuracy: 0.292571 val accuracy: 0.299000\n",
      "lr 2.142857e-07 reg 2.678571e+04 train accuracy: 0.299490 val accuracy: 0.306000\n",
      "lr 2.142857e-07 reg 2.857143e+04 train accuracy: 0.302388 val accuracy: 0.323000\n",
      "lr 2.142857e-07 reg 3.035714e+04 train accuracy: 0.305735 val accuracy: 0.328000\n",
      "lr 2.142857e-07 reg 3.214286e+04 train accuracy: 0.308673 val accuracy: 0.326000\n",
      "lr 2.142857e-07 reg 3.392857e+04 train accuracy: 0.305959 val accuracy: 0.324000\n",
      "lr 2.142857e-07 reg 3.571429e+04 train accuracy: 0.305796 val accuracy: 0.330000\n",
      "lr 2.142857e-07 reg 3.750000e+04 train accuracy: 0.311735 val accuracy: 0.317000\n",
      "lr 2.142857e-07 reg 3.928571e+04 train accuracy: 0.303878 val accuracy: 0.310000\n",
      "lr 2.142857e-07 reg 4.107143e+04 train accuracy: 0.312551 val accuracy: 0.315000\n",
      "lr 2.142857e-07 reg 4.285714e+04 train accuracy: 0.301980 val accuracy: 0.312000\n",
      "lr 2.142857e-07 reg 4.464286e+04 train accuracy: 0.306837 val accuracy: 0.315000\n",
      "lr 2.142857e-07 reg 4.642857e+04 train accuracy: 0.309204 val accuracy: 0.329000\n",
      "lr 2.142857e-07 reg 4.821429e+04 train accuracy: 0.306020 val accuracy: 0.322000\n",
      "lr 2.142857e-07 reg 5.000000e+04 train accuracy: 0.309388 val accuracy: 0.321000\n",
      "lr 2.428571e-07 reg 2.500000e+04 train accuracy: 0.302918 val accuracy: 0.310000\n",
      "lr 2.428571e-07 reg 2.678571e+04 train accuracy: 0.312041 val accuracy: 0.327000\n",
      "lr 2.428571e-07 reg 2.857143e+04 train accuracy: 0.306000 val accuracy: 0.327000\n",
      "lr 2.428571e-07 reg 3.035714e+04 train accuracy: 0.310959 val accuracy: 0.334000\n",
      "lr 2.428571e-07 reg 3.214286e+04 train accuracy: 0.310408 val accuracy: 0.317000\n",
      "lr 2.428571e-07 reg 3.392857e+04 train accuracy: 0.313592 val accuracy: 0.333000\n",
      "lr 2.428571e-07 reg 3.571429e+04 train accuracy: 0.316837 val accuracy: 0.324000\n",
      "lr 2.428571e-07 reg 3.750000e+04 train accuracy: 0.308673 val accuracy: 0.328000\n",
      "lr 2.428571e-07 reg 3.928571e+04 train accuracy: 0.308041 val accuracy: 0.311000\n",
      "lr 2.428571e-07 reg 4.107143e+04 train accuracy: 0.305980 val accuracy: 0.315000\n",
      "lr 2.428571e-07 reg 4.285714e+04 train accuracy: 0.312714 val accuracy: 0.326000\n",
      "lr 2.428571e-07 reg 4.464286e+04 train accuracy: 0.314449 val accuracy: 0.331000\n",
      "lr 2.428571e-07 reg 4.642857e+04 train accuracy: 0.304939 val accuracy: 0.320000\n",
      "lr 2.428571e-07 reg 4.821429e+04 train accuracy: 0.316878 val accuracy: 0.336000\n",
      "lr 2.428571e-07 reg 5.000000e+04 train accuracy: 0.300490 val accuracy: 0.319000\n",
      "lr 2.714286e-07 reg 2.500000e+04 train accuracy: 0.323510 val accuracy: 0.348000\n",
      "lr 2.714286e-07 reg 2.678571e+04 train accuracy: 0.315714 val accuracy: 0.334000\n",
      "lr 2.714286e-07 reg 2.857143e+04 train accuracy: 0.316980 val accuracy: 0.330000\n",
      "lr 2.714286e-07 reg 3.035714e+04 train accuracy: 0.310612 val accuracy: 0.322000\n",
      "lr 2.714286e-07 reg 3.214286e+04 train accuracy: 0.314163 val accuracy: 0.336000\n",
      "lr 2.714286e-07 reg 3.392857e+04 train accuracy: 0.316816 val accuracy: 0.324000\n",
      "lr 2.714286e-07 reg 3.571429e+04 train accuracy: 0.314224 val accuracy: 0.334000\n",
      "lr 2.714286e-07 reg 3.750000e+04 train accuracy: 0.310816 val accuracy: 0.338000\n",
      "lr 2.714286e-07 reg 3.928571e+04 train accuracy: 0.309714 val accuracy: 0.333000\n",
      "lr 2.714286e-07 reg 4.107143e+04 train accuracy: 0.310816 val accuracy: 0.321000\n",
      "lr 2.714286e-07 reg 4.285714e+04 train accuracy: 0.314735 val accuracy: 0.319000\n",
      "lr 2.714286e-07 reg 4.464286e+04 train accuracy: 0.308796 val accuracy: 0.323000\n",
      "lr 2.714286e-07 reg 4.642857e+04 train accuracy: 0.314551 val accuracy: 0.325000\n",
      "lr 2.714286e-07 reg 4.821429e+04 train accuracy: 0.300735 val accuracy: 0.318000\n",
      "lr 2.714286e-07 reg 5.000000e+04 train accuracy: 0.307408 val accuracy: 0.327000\n",
      "lr 3.000000e-07 reg 2.500000e+04 train accuracy: 0.322531 val accuracy: 0.331000\n",
      "lr 3.000000e-07 reg 2.678571e+04 train accuracy: 0.323306 val accuracy: 0.336000\n",
      "lr 3.000000e-07 reg 2.857143e+04 train accuracy: 0.320490 val accuracy: 0.333000\n",
      "lr 3.000000e-07 reg 3.035714e+04 train accuracy: 0.318878 val accuracy: 0.331000\n",
      "lr 3.000000e-07 reg 3.214286e+04 train accuracy: 0.315327 val accuracy: 0.327000\n",
      "lr 3.000000e-07 reg 3.392857e+04 train accuracy: 0.313959 val accuracy: 0.330000\n",
      "lr 3.000000e-07 reg 3.571429e+04 train accuracy: 0.311327 val accuracy: 0.321000\n",
      "lr 3.000000e-07 reg 3.750000e+04 train accuracy: 0.305163 val accuracy: 0.321000\n",
      "lr 3.000000e-07 reg 3.928571e+04 train accuracy: 0.302857 val accuracy: 0.325000\n",
      "lr 3.000000e-07 reg 4.107143e+04 train accuracy: 0.316041 val accuracy: 0.339000\n",
      "lr 3.000000e-07 reg 4.285714e+04 train accuracy: 0.313735 val accuracy: 0.330000\n",
      "lr 3.000000e-07 reg 4.464286e+04 train accuracy: 0.302796 val accuracy: 0.321000\n",
      "lr 3.000000e-07 reg 4.642857e+04 train accuracy: 0.292653 val accuracy: 0.314000\n",
      "lr 3.000000e-07 reg 4.821429e+04 train accuracy: 0.302531 val accuracy: 0.318000\n",
      "lr 3.000000e-07 reg 5.000000e+04 train accuracy: 0.304224 val accuracy: 0.305000\n",
      "lr 3.285714e-07 reg 2.500000e+04 train accuracy: 0.322980 val accuracy: 0.336000\n",
      "lr 3.285714e-07 reg 2.678571e+04 train accuracy: 0.322980 val accuracy: 0.349000\n",
      "lr 3.285714e-07 reg 2.857143e+04 train accuracy: 0.318714 val accuracy: 0.337000\n",
      "lr 3.285714e-07 reg 3.035714e+04 train accuracy: 0.321347 val accuracy: 0.337000\n",
      "lr 3.285714e-07 reg 3.214286e+04 train accuracy: 0.319694 val accuracy: 0.331000\n",
      "lr 3.285714e-07 reg 3.392857e+04 train accuracy: 0.310653 val accuracy: 0.314000\n",
      "lr 3.285714e-07 reg 3.571429e+04 train accuracy: 0.315143 val accuracy: 0.332000\n",
      "lr 3.285714e-07 reg 3.750000e+04 train accuracy: 0.319306 val accuracy: 0.325000\n",
      "lr 3.285714e-07 reg 3.928571e+04 train accuracy: 0.306490 val accuracy: 0.322000\n",
      "lr 3.285714e-07 reg 4.107143e+04 train accuracy: 0.317224 val accuracy: 0.336000\n",
      "lr 3.285714e-07 reg 4.285714e+04 train accuracy: 0.306796 val accuracy: 0.326000\n",
      "lr 3.285714e-07 reg 4.464286e+04 train accuracy: 0.300592 val accuracy: 0.311000\n",
      "lr 3.285714e-07 reg 4.642857e+04 train accuracy: 0.311531 val accuracy: 0.310000\n",
      "lr 3.285714e-07 reg 4.821429e+04 train accuracy: 0.296714 val accuracy: 0.307000\n",
      "lr 3.285714e-07 reg 5.000000e+04 train accuracy: 0.300898 val accuracy: 0.312000\n",
      "lr 3.571429e-07 reg 2.500000e+04 train accuracy: 0.322020 val accuracy: 0.334000\n",
      "lr 3.571429e-07 reg 2.678571e+04 train accuracy: 0.325694 val accuracy: 0.345000\n",
      "lr 3.571429e-07 reg 2.857143e+04 train accuracy: 0.333857 val accuracy: 0.342000\n",
      "lr 3.571429e-07 reg 3.035714e+04 train accuracy: 0.335245 val accuracy: 0.352000\n",
      "lr 3.571429e-07 reg 3.214286e+04 train accuracy: 0.320571 val accuracy: 0.335000\n",
      "lr 3.571429e-07 reg 3.392857e+04 train accuracy: 0.306449 val accuracy: 0.320000\n",
      "lr 3.571429e-07 reg 3.571429e+04 train accuracy: 0.318102 val accuracy: 0.331000\n",
      "lr 3.571429e-07 reg 3.750000e+04 train accuracy: 0.311204 val accuracy: 0.317000\n",
      "lr 3.571429e-07 reg 3.928571e+04 train accuracy: 0.317408 val accuracy: 0.318000\n",
      "lr 3.571429e-07 reg 4.107143e+04 train accuracy: 0.315633 val accuracy: 0.324000\n",
      "lr 3.571429e-07 reg 4.285714e+04 train accuracy: 0.311918 val accuracy: 0.323000\n",
      "lr 3.571429e-07 reg 4.464286e+04 train accuracy: 0.310429 val accuracy: 0.321000\n",
      "lr 3.571429e-07 reg 4.642857e+04 train accuracy: 0.307306 val accuracy: 0.328000\n",
      "lr 3.571429e-07 reg 4.821429e+04 train accuracy: 0.304184 val accuracy: 0.309000\n",
      "lr 3.571429e-07 reg 5.000000e+04 train accuracy: 0.300898 val accuracy: 0.314000\n",
      "lr 3.857143e-07 reg 2.500000e+04 train accuracy: 0.321878 val accuracy: 0.339000\n",
      "lr 3.857143e-07 reg 2.678571e+04 train accuracy: 0.328306 val accuracy: 0.345000\n",
      "lr 3.857143e-07 reg 2.857143e+04 train accuracy: 0.324735 val accuracy: 0.338000\n",
      "lr 3.857143e-07 reg 3.035714e+04 train accuracy: 0.326633 val accuracy: 0.339000\n",
      "lr 3.857143e-07 reg 3.214286e+04 train accuracy: 0.322571 val accuracy: 0.341000\n",
      "lr 3.857143e-07 reg 3.392857e+04 train accuracy: 0.315510 val accuracy: 0.333000\n",
      "lr 3.857143e-07 reg 3.571429e+04 train accuracy: 0.319041 val accuracy: 0.329000\n",
      "lr 3.857143e-07 reg 3.750000e+04 train accuracy: 0.321490 val accuracy: 0.328000\n",
      "lr 3.857143e-07 reg 3.928571e+04 train accuracy: 0.315449 val accuracy: 0.324000\n",
      "lr 3.857143e-07 reg 4.107143e+04 train accuracy: 0.300755 val accuracy: 0.321000\n",
      "lr 3.857143e-07 reg 4.285714e+04 train accuracy: 0.298245 val accuracy: 0.315000\n",
      "lr 3.857143e-07 reg 4.464286e+04 train accuracy: 0.314755 val accuracy: 0.315000\n",
      "lr 3.857143e-07 reg 4.642857e+04 train accuracy: 0.304673 val accuracy: 0.324000\n",
      "lr 3.857143e-07 reg 4.821429e+04 train accuracy: 0.298265 val accuracy: 0.315000\n",
      "lr 3.857143e-07 reg 5.000000e+04 train accuracy: 0.294592 val accuracy: 0.308000\n",
      "lr 4.142857e-07 reg 2.500000e+04 train accuracy: 0.319041 val accuracy: 0.339000\n",
      "lr 4.142857e-07 reg 2.678571e+04 train accuracy: 0.320959 val accuracy: 0.341000\n",
      "lr 4.142857e-07 reg 2.857143e+04 train accuracy: 0.307735 val accuracy: 0.321000\n",
      "lr 4.142857e-07 reg 3.035714e+04 train accuracy: 0.315531 val accuracy: 0.321000\n",
      "lr 4.142857e-07 reg 3.214286e+04 train accuracy: 0.318531 val accuracy: 0.325000\n",
      "lr 4.142857e-07 reg 3.392857e+04 train accuracy: 0.312673 val accuracy: 0.336000\n",
      "lr 4.142857e-07 reg 3.571429e+04 train accuracy: 0.310265 val accuracy: 0.330000\n",
      "lr 4.142857e-07 reg 3.750000e+04 train accuracy: 0.318327 val accuracy: 0.310000\n",
      "lr 4.142857e-07 reg 3.928571e+04 train accuracy: 0.314286 val accuracy: 0.325000\n",
      "lr 4.142857e-07 reg 4.107143e+04 train accuracy: 0.301265 val accuracy: 0.310000\n",
      "lr 4.142857e-07 reg 4.285714e+04 train accuracy: 0.313061 val accuracy: 0.323000\n",
      "lr 4.142857e-07 reg 4.464286e+04 train accuracy: 0.310347 val accuracy: 0.328000\n",
      "lr 4.142857e-07 reg 4.642857e+04 train accuracy: 0.313327 val accuracy: 0.336000\n",
      "lr 4.142857e-07 reg 4.821429e+04 train accuracy: 0.295878 val accuracy: 0.315000\n",
      "lr 4.142857e-07 reg 5.000000e+04 train accuracy: 0.305510 val accuracy: 0.316000\n",
      "lr 4.428571e-07 reg 2.500000e+04 train accuracy: 0.333286 val accuracy: 0.345000\n",
      "lr 4.428571e-07 reg 2.678571e+04 train accuracy: 0.316816 val accuracy: 0.324000\n",
      "lr 4.428571e-07 reg 2.857143e+04 train accuracy: 0.320490 val accuracy: 0.334000\n",
      "lr 4.428571e-07 reg 3.035714e+04 train accuracy: 0.320776 val accuracy: 0.344000\n",
      "lr 4.428571e-07 reg 3.214286e+04 train accuracy: 0.315449 val accuracy: 0.318000\n",
      "lr 4.428571e-07 reg 3.392857e+04 train accuracy: 0.318592 val accuracy: 0.330000\n",
      "lr 4.428571e-07 reg 3.571429e+04 train accuracy: 0.316857 val accuracy: 0.329000\n",
      "lr 4.428571e-07 reg 3.750000e+04 train accuracy: 0.304959 val accuracy: 0.316000\n",
      "lr 4.428571e-07 reg 3.928571e+04 train accuracy: 0.313306 val accuracy: 0.320000\n",
      "lr 4.428571e-07 reg 4.107143e+04 train accuracy: 0.305612 val accuracy: 0.317000\n",
      "lr 4.428571e-07 reg 4.285714e+04 train accuracy: 0.296980 val accuracy: 0.314000\n",
      "lr 4.428571e-07 reg 4.464286e+04 train accuracy: 0.300796 val accuracy: 0.314000\n",
      "lr 4.428571e-07 reg 4.642857e+04 train accuracy: 0.310429 val accuracy: 0.323000\n",
      "lr 4.428571e-07 reg 4.821429e+04 train accuracy: 0.298020 val accuracy: 0.316000\n",
      "lr 4.428571e-07 reg 5.000000e+04 train accuracy: 0.304510 val accuracy: 0.314000\n",
      "lr 4.714286e-07 reg 2.500000e+04 train accuracy: 0.330143 val accuracy: 0.347000\n",
      "lr 4.714286e-07 reg 2.678571e+04 train accuracy: 0.326245 val accuracy: 0.335000\n",
      "lr 4.714286e-07 reg 2.857143e+04 train accuracy: 0.319143 val accuracy: 0.333000\n",
      "lr 4.714286e-07 reg 3.035714e+04 train accuracy: 0.321102 val accuracy: 0.329000\n",
      "lr 4.714286e-07 reg 3.214286e+04 train accuracy: 0.316816 val accuracy: 0.328000\n",
      "lr 4.714286e-07 reg 3.392857e+04 train accuracy: 0.310673 val accuracy: 0.332000\n",
      "lr 4.714286e-07 reg 3.571429e+04 train accuracy: 0.318490 val accuracy: 0.326000\n",
      "lr 4.714286e-07 reg 3.750000e+04 train accuracy: 0.306735 val accuracy: 0.304000\n",
      "lr 4.714286e-07 reg 3.928571e+04 train accuracy: 0.311633 val accuracy: 0.324000\n",
      "lr 4.714286e-07 reg 4.107143e+04 train accuracy: 0.306327 val accuracy: 0.309000\n",
      "lr 4.714286e-07 reg 4.285714e+04 train accuracy: 0.307020 val accuracy: 0.316000\n",
      "lr 4.714286e-07 reg 4.464286e+04 train accuracy: 0.310020 val accuracy: 0.329000\n",
      "lr 4.714286e-07 reg 4.642857e+04 train accuracy: 0.295694 val accuracy: 0.316000\n",
      "lr 4.714286e-07 reg 4.821429e+04 train accuracy: 0.296306 val accuracy: 0.314000\n",
      "lr 4.714286e-07 reg 5.000000e+04 train accuracy: 0.294714 val accuracy: 0.308000\n",
      "lr 5.000000e-07 reg 2.500000e+04 train accuracy: 0.331388 val accuracy: 0.340000\n",
      "lr 5.000000e-07 reg 2.678571e+04 train accuracy: 0.316245 val accuracy: 0.332000\n",
      "lr 5.000000e-07 reg 2.857143e+04 train accuracy: 0.321633 val accuracy: 0.334000\n",
      "lr 5.000000e-07 reg 3.035714e+04 train accuracy: 0.319653 val accuracy: 0.334000\n",
      "lr 5.000000e-07 reg 3.214286e+04 train accuracy: 0.321224 val accuracy: 0.337000\n",
      "lr 5.000000e-07 reg 3.392857e+04 train accuracy: 0.322429 val accuracy: 0.333000\n",
      "lr 5.000000e-07 reg 3.571429e+04 train accuracy: 0.311204 val accuracy: 0.325000\n",
      "lr 5.000000e-07 reg 3.750000e+04 train accuracy: 0.301408 val accuracy: 0.315000\n",
      "lr 5.000000e-07 reg 3.928571e+04 train accuracy: 0.305286 val accuracy: 0.320000\n",
      "lr 5.000000e-07 reg 4.107143e+04 train accuracy: 0.319429 val accuracy: 0.336000\n",
      "lr 5.000000e-07 reg 4.285714e+04 train accuracy: 0.304490 val accuracy: 0.310000\n",
      "lr 5.000000e-07 reg 4.464286e+04 train accuracy: 0.299959 val accuracy: 0.304000\n",
      "lr 5.000000e-07 reg 4.642857e+04 train accuracy: 0.309592 val accuracy: 0.323000\n",
      "lr 5.000000e-07 reg 4.821429e+04 train accuracy: 0.308531 val accuracy: 0.317000\n",
      "lr 5.000000e-07 reg 5.000000e+04 train accuracy: 0.310041 val accuracy: 0.319000\n",
      "best validation accuracy achieved during cross-validation: 0.352000\n"
     ]
    }
   ],
   "source": [
    "# Use the validation set to tune hyperparameters (regularization strength and\n",
    "# learning rate). You should experiment with different ranges for the learning\n",
    "# rates and regularization strengths; if you are careful you should be able to\n",
    "# get a classification accuracy of over 0.35 on the validation set.\n",
    "\n",
    "from cs231n.classifiers import Softmax\n",
    "results = {}\n",
    "best_val = -1\n",
    "best_softmax = None\n",
    "\n",
    "################################################################################\n",
    "# TODO:                                                                        #\n",
    "# Use the validation set to set the learning rate and regularization strength. #\n",
    "# This should be identical to the validation that you did for the SVM; save    #\n",
    "# the best trained softmax classifer in best_softmax.                          #\n",
    "################################################################################\n",
    "\n",
    "# Provided as a reference. You may or may not want to change these hyperparameters\n",
    "learning_rates = [1e-7, 5e-7]\n",
    "regularization_strengths = [2.5e4, 5e4]\n",
    "\n",
    "# *****START OF YOUR CODE (DO NOT DELETE/MODIFY THIS LINE)*****\n",
    "learning_r = np.linspace(learning_rates[0], learning_rates[1], 15)\n",
    "reg_s = np.linspace(regularization_strengths[0], regularization_strengths[1], 15)\n",
    "for lr in learning_r:\n",
    "    for reg in reg_s:\n",
    " \n",
    "        softmax = Softmax()\n",
    "        softmax.train(X_train, y_train, learning_rate=lr, reg=reg, num_iters = 200) #set smaller\n",
    "        \n",
    "        yt_pred = softmax.predict(X_train)\n",
    "        yv_pred = softmax.predict(X_val)\n",
    "        acc_t = np.mean(yt_pred == y_train)\n",
    "        acc_v = np.mean(yv_pred == y_val)\n",
    "        results[(lr, reg)] = (acc_t, acc_v)\n",
    "        \n",
    "        if acc_v > best_val:\n",
    "            best_val = acc_v\n",
    "            best_softmax = softmax\n",
    "\n",
    "# *****END OF YOUR CODE (DO NOT DELETE/MODIFY THIS LINE)*****\n",
    "    \n",
    "# Print out results.\n",
    "for lr, reg in sorted(results):\n",
    "    train_accuracy, val_accuracy = results[(lr, reg)]\n",
    "    print('lr %e reg %e train accuracy: %f val accuracy: %f' % (\n",
    "                lr, reg, train_accuracy, val_accuracy))\n",
    "    \n",
    "print('best validation accuracy achieved during cross-validation: %f' % best_val)"
   ]
  },
  {
   "cell_type": "code",
   "execution_count": 43,
   "metadata": {
    "id": "test"
   },
   "outputs": [
    {
     "name": "stdout",
     "output_type": "stream",
     "text": [
      "softmax on raw pixels final test set accuracy: 0.348000\n"
     ]
    }
   ],
   "source": [
    "# evaluate on test set\n",
    "# Evaluate the best softmax on test set\n",
    "y_test_pred = best_softmax.predict(X_test)\n",
    "test_accuracy = np.mean(y_test == y_test_pred)\n",
    "print('softmax on raw pixels final test set accuracy: %f' % (test_accuracy, ))"
   ]
  },
  {
   "cell_type": "markdown",
   "metadata": {
    "tags": [
     "pdf-inline"
    ]
   },
   "source": [
    "**Inline Question 2** - *True or False*\n",
    "\n",
    "Suppose the overall training loss is defined as the sum of the per-datapoint loss over all training examples. It is possible to add a new datapoint to a training set that would leave the SVM loss unchanged, but this is not the case with the Softmax classifier loss.\n",
    "\n",
    "$\\color{blue}{\\textit Your Answer:}$ True.\n",
    "\n",
    "\n",
    "$\\color{blue}{\\textit Your Explanation:}$ For loss in SVM can be zero when $(s_j - s_{yi} + \\bigtriangleup)<0$. But loss in softmax will never be zero. \n",
    "\n"
   ]
  },
  {
   "cell_type": "code",
   "execution_count": 44,
   "metadata": {},
   "outputs": [
    {
     "data": {
      "image/png": "[encoded data removed]",
      "text/plain": [
       "<Figure size 720x576 with 10 Axes>"
      ]
     },
     "metadata": {
      "needs_background": "light"
     },
     "output_type": "display_data"
    }
   ],
   "source": [
    "# Visualize the learned weights for each class\n",
    "w = best_softmax.W[:-1,:] # strip out the bias\n",
    "w = w.reshape(32, 32, 3, 10)\n",
    "\n",
    "w_min, w_max = np.min(w), np.max(w)\n",
    "\n",
    "classes = ['plane', 'car', 'bird', 'cat', 'deer', 'dog', 'frog', 'horse', 'ship', 'truck']\n",
    "for i in range(10):\n",
    "    plt.subplot(2, 5, i + 1)\n",
    "    \n",
    "    # Rescale the weights to be between 0 and 255\n",
    "    wimg = 255.0 * (w[:, :, :, i].squeeze() - w_min) / (w_max - w_min)\n",
    "    plt.imshow(wimg.astype('uint8'))\n",
    "    plt.axis('off')\n",
    "    plt.title(classes[i])"
   ]
  },
  {
   "cell_type": "code",
   "execution_count": null,
   "metadata": {},
   "outputs": [],
   "source": []
  }
 ],
 "metadata": {
  "kernelspec": {
   "display_name": "Python 3 (ipykernel)",
   "language": "python",
   "name": "python3"
  },
  "language_info": {
   "codemirror_mode": {
    "name": "ipython",
    "version": 3
   },
   "file_extension": ".py",
   "mimetype": "text/x-python",
   "name": "python",
   "nbconvert_exporter": "python",
   "pygments_lexer": "ipython3",
   "version": "3.9.12"
  },
  "vscode": {
   "interpreter": {
    "hash": "e53b434fb49b2ce5e1d3138a4af1c9150d766ef3752b9e74c5737092ed6ff166"
   }
  }
 },
 "nbformat": 4,
 "nbformat_minor": 1
}
