{
 "cells": [
  {
   "cell_type": "markdown",
   "metadata": {},
   "source": [
    "### Q2: Implement the DLSPnP-PE algorithm according to the paper [Zheng and Kneip,2016] and test it on the provided outlier-free data. Varying the number of points from 4 to 15, please report and analyse the following metrics\n",
    "\n",
    "•Reprojection Errors\n",
    "\n",
    "•Absolute Rotation Error in degree\n",
    "\n",
    "•Relative Translation Error in percentage\n",
    "\n",
    "•Relative Focal Length Error in percentage\n",
    "\n",
    "### Q3: Implement RANSAC with DLSPnP-PE as the minimal solver on the corrupted data provided and present the aforementioned metrics too.\n"
   ]
  },
  {
   "cell_type": "code",
   "execution_count": 19,
   "metadata": {},
   "outputs": [
    {
     "name": "stdout",
     "output_type": "stream",
     "text": [
      "U (5, 3)\n",
      "X (5, 3)\n"
     ]
    }
   ],
   "source": [
    "import sympy as sp\n",
    "import numpy as np\n",
    "\n",
    "K_gt = np.array([[800,0,400],\n",
    "             [0,800,320],\n",
    "             [0,0,1]])\n",
    "R_gt = np.array([[0.97021030670802,-0.103777351275851,0.218911448123891],\n",
    "             [0.0955355748687254,0.994271247550756,0.0479337065994893],\n",
    "             [-0.222631791737013,-0.0255919451396816,0.974566640949676]])\n",
    "t_gt = np.array([[0.152958693028076],\n",
    "                [-1.58419349813393],\n",
    "                [1.25940311352436]])\n",
    "\n",
    "data = '/home/daizj/Homeworks/gv/Homework2/data/data4/'\n",
    "U = np.loadtxt(data + 'u.txt')\n",
    "X = np.loadtxt(data + 'x.txt')\n",
    "U[:,0]-=400\n",
    "U[:,1]-=320\n",
    "U = U[:5,:]\n",
    "X = X[:5,:]\n",
    "print(\"U\", U.shape)\n",
    "print(\"X\", X.shape)"
   ]
  },
  {
   "cell_type": "code",
   "execution_count": 20,
   "metadata": {},
   "outputs": [
    {
     "name": "stdout",
     "output_type": "stream",
     "text": [
      "s 119954.54520269898\n",
      "[718.7992664  252.83869755 150.4351745 ]\n",
      "[274.56109751 486.99881515 309.33728777]\n",
      "[-445776.33060189   94089.48918081  754766.23303087]\n",
      "[6.29210199376329*b**2 + 0.00879332740860363*b*c*x - 0.00386480480340246*b*c*y - 0.00515757510062339*b*x + 0.00250820299046025*b*y - 1.56875238069243*b + 6.29210199376329*c**2 + 0.00250820299046025*c*x + 0.00515757510062339*c*y - 7.43242083655301*c + 0.00405986129438342*x*(-b**2 + c**2 + 1) + 0.00599226369608465*x*(b**2 - c**2 + 1) - 0.0021077875550247*y*(-b**2 + c**2 + 1) + 0.00228887614927711*y*(b**2 - c**2 + 1) - 6.29210199376329]\n"
     ]
    }
   ],
   "source": [
    "from sympy import *\n",
    "x,y,b,c,k = sp.symbols('x y b c k')\n",
    "\n",
    "r1,r2,r3 = sp.symbols('r_1 r_2 r_3')\n",
    "\n",
    "t1,t2,t3 = sp.symbols('t_1 t_2 t_3')\n",
    "\n",
    "lambi,ui,vi,xi,yi,zi = sp.symbols('lambda_i u_i v_i x_i y_i z_i')\n",
    "\n",
    "# Rbc = sp.symbols('R(b,c)')\n",
    "k = 1#expand(1 + b*b + c*c)\n",
    "Rbc = (1/k) * Matrix([[1+b*b-c*c, 2*b*c, 2*c],\n",
    "                    [2*b*c, 1-b*b+c*c, -2*b],\n",
    "                    [-2*c, 2*b, 1-b*b-c*c]])\n",
    "KRq_theta = Matrix([[x, -y, 0],\n",
    "                    [y, x, 0],\n",
    "                    [0, 0, 1]])\n",
    "\n",
    "KR = KRq_theta * Rbc\n",
    "\n",
    "r1, r2, r3 = KR[0,:].T, KR[1,:].T, KR[2,:].T\n",
    "\n",
    "ui,vi = U[:,0],U[:,1]\n",
    "ui = ui.reshape(-1,1)\n",
    "vi = vi.reshape(-1,1)\n",
    "Xi = X\n",
    "Ui = U\n",
    "\n",
    "uiXi = np.multiply(ui,Xi)\n",
    "viXi = np.multiply(vi,Xi)\n",
    "\n",
    "uiXi_decentral = uiXi - np.average(uiXi, axis = 0)\n",
    "viXi_decentral = viXi - np.average(viXi, axis = 0)\n",
    "\n",
    "ui_decentral = ui - np.average(ui, axis = 0)\n",
    "vi_decentral = vi - np.average(vi, axis = 0)\n",
    "Xi_decentral = Xi - np.average(Xi, axis = 0)\n",
    "\n",
    "s = np.multiply(ui_decentral,ui_decentral) + np.multiply(vi_decentral,vi_decentral) \n",
    "s = np.sum(s)\n",
    "print(\"s\",s)\n",
    "temp = np.multiply(ui_decentral, uiXi_decentral) + np.multiply(vi_decentral, viXi_decentral)\n",
    "f1 = np.sum(np.multiply(ui_decentral,Xi_decentral),axis = 0)\n",
    "f2 = np.sum(np.multiply(vi_decentral,Xi_decentral),axis = 0)\n",
    "f3 = np.sum(temp,axis = 0)\n",
    "t3 = -(r3.T @ f3.T - r1.T @ f1.T - r2.T @ f2.T)/s\n",
    "\n",
    "print(f1)\n",
    "print(f2)\n",
    "print(f3)\n",
    "print(t3)"
   ]
  },
  {
   "cell_type": "code",
   "execution_count": 21,
   "metadata": {},
   "outputs": [
    {
     "name": "stdout",
     "output_type": "stream",
     "text": [
      "-65.6266501091959*b**2 + 38.3901869993959*b - 65.6266501091959*c**2 + 373.187887702616*c + 65.6266501091959\n",
      "Matrix([[-0.697843029013381*b**2 + 2.07905480596047*b*c - 0.262949069311432*b + 0.697843029013381*c**2 + 1.98707238820994*c - 0.283874554269273, 1.03952740298024*b**2 + 1.39568605802676*b*c + 1.98707238820994*b - 1.03952740298024*c**2 + 0.262949069311432*c - 0.806139486574014]])\n"
     ]
    }
   ],
   "source": [
    "# p3i = uiXi_decentral - ui_decentral * (f3/s)\n",
    "# p1i = Xi_decentral - ui_decentral * (f1/s)\n",
    "# p2i = - ui_decentral * (f2/s)\n",
    "\n",
    "# q3i = viXi_decentral - vi_decentral * (f3/s)\n",
    "# q2i = Xi_decentral - vi_decentral * (f2/s)\n",
    "# q1i = - vi_decentral * (f1/s)\n",
    "\n",
    "# eq1 = r3.T * p3i.T - r1.T * p1i.T - r2.T * p2i.T\n",
    "# eq2 = r3.T * q3i.T - r1.T * q1i.T - r2.T * q2i.T\n",
    "\n",
    "eq1 = r3.T * uiXi_decentral.T + ui_decentral.T * t3 - r1.T * Xi_decentral.T\n",
    "eq2 = r3.T * viXi_decentral.T + vi_decentral.T * t3 - r2.T * Xi_decentral.T\n",
    "\n",
    "ax = eq1[0].coeff('x')\n",
    "ay = eq1[0].coeff('y')\n",
    "ebc = simplify(eq1[0] - ax * x - ay * y)\n",
    "Mbc = Matrix([[ax,ay]])\n",
    "print(ebc)\n",
    "print(Mbc)"
   ]
  },
  {
   "cell_type": "code",
   "execution_count": 22,
   "metadata": {},
   "outputs": [
    {
     "name": "stdout",
     "output_type": "stream",
     "text": [
      "num 5\n"
     ]
    }
   ],
   "source": [
    "Mbcs = []\n",
    "ebcs = []\n",
    "n = ui.shape[0]\n",
    "print(\"num\", n)\n",
    "for i in range(n):\n",
    "    ax = eq1[i].coeff('x')\n",
    "    ay = eq1[i].coeff('y')\n",
    "    # ebc = simplify(eq1[i] - ax * x - ay * y)\n",
    "    ebc = -eq1[i].subs('x' ,0).subs('y',0)\n",
    "    Mbc = Matrix([[ax,ay]])\n",
    "    ebcs.append(ebc)\n",
    "    Mbcs.append(Mbc)\n",
    "    \n",
    "    ax = eq2[i].coeff('x')\n",
    "    ay = eq2[i].coeff('y')\n",
    "    # ebc = simplify(eq2[i] - ax * x - ay * y)\n",
    "    ebc = -eq2[i].subs('x' ,0).subs('y',0)\n",
    "    Mbc = Matrix([[ax,ay]])\n",
    "    ebcs.append(ebc)\n",
    "    Mbcs.append(Mbc)\n",
    "Mbcs = Matrix(Mbcs)\n",
    "ebcs = Matrix(ebcs)\n",
    "# ebcs"
   ]
  },
  {
   "cell_type": "code",
   "execution_count": 23,
   "metadata": {},
   "outputs": [
    {
     "name": "stdout",
     "output_type": "stream",
     "text": [
      "165254017.998395*b^11 + 8.50043847250031e-9*b^10*c - 8206810.12288615*b^10 + 826270089.991977*b^9*c^2 - 265298395.950384*b^9*c - 188212626.26154*b^9 - 3.4514300134693e-9*b^8*c^3 - 33573314.139079*b^8*c^2 + 828074696.572995*b^8*c - 370313913.766225*b^8 + 1652540179.98395*b^7*c^4 - 1061193583.80153*b^7*c^3 + 264655200.766125*b^7*c^2 + 889113278.880223*b^7*c + 255081988.151428*b^7 - 8.09381550307733e-9*b^6*c^5 - 52225155.3274557*b^6*c^4 + 2576232389.33821*b^6*c^3 - 1182386040.43199*b^6*c^2 + 1099707772.13737*b^6*c + 433591854.963847*b^6 + 1652540179.98395*b^5*c^6 - 1591790375.7023*b^5*c^5 + 1923241359.86761*b^5*c^4 + 1919085200.88671*b^5*c^3 + 2679328026.12658*b^5*c^2 + 38233950.6233447*b^5*c + 414690804.077112*b^5 + 5.78129678791238e-9*b^4*c^7 - 37303682.3767535*b^4*c^6 + 2760248988.57665*b^4*c^5 - 1299304659.80017*b^4*c^4 + 3780700359.20858*b^4*c^3 + 3018542219.05276*b^4*c^2 + 977716718.229706*b^4*c + 269229979.905072*b^4 + 826270089.991976*b^3*c^8 - 1061193583.80153*b^3*c^7 + 2299666612.39069*b^3*c^6 + 1170830565.13275*b^3*c^5 + 3401626446.12736*b^3*c^4 + 632305137.668092*b^3*c^3 + 2826277813.79992*b^3*c^2 + 441435348.051482*b^3*c + 135077984.332975*b^3 + 1.15047667115643e-9*b^2*c^9 - 11191104.713026*b^2*c^8 + 1104099595.43066*b^2*c^7 - 532706853.369284*b^2*c^6 + 3122930438.30224*b^2*c^5 + 1490108215.53707*b^2*c^4 + 2085689878.1168*b^2*c^3 + 660295775.544277*b^2*c^2 + 160960718.601073*b^2*c + 60054230.8787456*b^2 + 165254017.998395*b*c^10 - 265298395.950383*b*c^9 + 829293079.550744*b*c^8 + 140858643.126264*b*c^7 + 977380408.152204*b*c^6 + 538316948.164505*b*c^5 + 2186665302.03152*b*c^4 + 1054662324.68319*b*c^3 + 709798478.297945*b*c^2 + 30007645.4026389*b*c + 15205016.944345*b - 7.72767133863665e-10*c^11 - 746073.647535097*c^10 + 92008299.6192217*c^9 - 45474320.2348753*c^8 + 441937851.231037*c^7 - 45064011.731932*c^6 - 105342643.994758*c^5 + 187915530.932591*c^4 + 244062448.276257*c^3 + 81903549.469013*c^2 - 3647840.81910033*c - 640616.30594704\n"
     ]
    }
   ],
   "source": [
    "Mbcs = Matrix(Mbcs)\n",
    "ebcs = Matrix(ebcs)\n",
    "\n",
    "MtM = Mbcs.T * Mbcs\n",
    "MtM_adj = MtM.adjugate()\n",
    "MtM_det = det(MtM)\n",
    "I = eye(2 * n)\n",
    "\n",
    "phi = - ebcs.T * (Mbcs * (MtM_adj) * Mbcs.T - MtM_det * I) * ebcs\n",
    "phi = phi[0,0].expand()\n",
    "\n",
    "phi_b = phi.diff(b)\n",
    "phi_c = phi.diff(c)\n",
    "print(str(phi_b).replace(\"**\", \"^\"))"
   ]
  },
  {
   "cell_type": "code",
   "execution_count": 24,
   "metadata": {},
   "outputs": [
    {
     "name": "stdout",
     "output_type": "stream",
     "text": [
      "7.72767133863665e-10*b^11 + 165254017.998395*b^10*c - 26529839.5950384*b^10 - 1.15047667115643e-9*b^9*c^2 - 7460736.47535088*b^9*c + 92008299.6192217*b^9 + 826270089.991977*b^8*c^3 - 397947593.925575*b^8*c^2 + 66163800.1915312*b^8*c + 111139159.860028*b^8 - 5.78129678791238e-9*b^7*c^4 - 29842945.9014032*b^7*c^3 + 1104099595.43066*b^7*c^2 - 337824582.980568*b^7*c + 157101110.305339*b^7 + 1652540179.98395*b^6*c^5 - 1326491979.75192*b^6*c^4 + 1282160906.57841*b^6*c^3 + 959542600.443354*b^6*c^2 + 893109342.042193*b^6*c + 6372325.10389078*b^6 + 8.09381550307733e-9*b^5*c^6 - 44764418.8521042*b^5*c^5 + 2760248988.57665*b^5*c^4 - 1039443727.84014*b^5*c^3 + 2268420215.52515*b^5*c^2 + 1207416887.6211*b^5*c + 195543343.645941*b^5 + 1652540179.98395*b^4*c^7 - 1857088771.65268*b^4*c^6 + 3449499918.58604*b^4*c^5 + 1463538206.41594*b^4*c^4 + 3401626446.12736*b^4*c^3 + 474228853.251069*b^4*c^2 + 1413138906.89996*b^4*c + 110358837.012871*b^4 + 3.4514300134693e-9*b^3*c^8 - 29842945.9014026*b^3*c^7 + 2576232389.3382*b^3*c^6 - 1065413706.73857*b^3*c^5 + 5204884063.83707*b^3*c^4 + 1986810954.04943*b^3*c^3 + 2085689878.1168*b^3*c^2 + 440197183.696185*b^3*c + 53653572.8670243*b^3 + 826270089.991976*b^2*c^9 - 1193842781.77673*b^2*c^8 + 3317172318.20298*b^2*c^7 + 493005250.941923*b^2*c^6 + 2932141224.45661*b^2*c^5 + 1345792370.41126*b^2*c^4 + 4373330604.06303*b^2*c^3 + 1581993487.02479*b^2*c^2 + 709798478.297945*b^2*c + 15003822.7013195*b^2 - 8.50043847250031e-9*b*c^10 - 7460736.47535097*b*c^9 + 828074696.572995*b*c^8 - 363794561.879002*b*c^7 + 3093564958.61726*b*c^6 - 270384070.391592*b*c^5 - 526713219.973789*b*c^4 + 751662123.730362*b*c^3 + 732187344.82877*b*c^2 + 163807098.938026*b*c - 3647840.81910033*b + 165254017.998395*c^11 - 291828235.545422*c^10 + 1083669506.00382*c^9 - 122129514.890687*c^8 + 423624120.371449*c^7 + 822181603.383844*c^6 + 402631622.713194*c^5 - 174784330.053619*c^4 + 517698272.848232*c^3 - 62520498.8130296*c^2 + 28360003.7234913*c - 2820245.27186847\n"
     ]
    }
   ],
   "source": [
    "print(str(phi_c).replace(\"**\", \"^\"))"
   ]
  },
  {
   "cell_type": "code",
   "execution_count": 36,
   "metadata": {},
   "outputs": [],
   "source": [
    "with open(\"finite_solutions\", \"r\") as file:\n",
    "    lines = [line.strip() for line in file if line.strip()]\n",
    "    \n",
    "used_solu = []\n",
    "for i in range(int(lines[0])):\n",
    "    line1 = lines[i * 2 + 1].split(\" \")\n",
    "    line2 = lines[i * 2 + 2].split(\" \")\n",
    "    \n",
    "    b, b_ver = map(float, line1)\n",
    "    c, c_ver = map(float, line2)\n",
    "    \n",
    "    if abs(b_ver) < 1e-10 and abs(c_ver) < 1e-10:\n",
    "        used_solu.append((b, c))"
   ]
  },
  {
   "cell_type": "code",
   "execution_count": 54,
   "metadata": {},
   "outputs": [],
   "source": [
    "min_err = 999999\n",
    "R_result, t_result, f_result=0,0,0\n",
    "for b, c in used_solu:\n",
    "    Mbc = np.array(Mbcs.subs({\"b\": b, \"c\": c}), dtype=np.float64)\n",
    "    ebc = np.array(ebcs.subs({\"b\": b, \"c\": c}), dtype=np.float64)\n",
    "    X = np.linalg.lstsq(Mbc, ebc, rcond=None)[0]\n",
    "    x, y = X[0, 0], X[1, 0]\n",
    "    f = np.sqrt(x**2 + y**2)\n",
    "\n",
    "    k = 1 + b**2 + c**2\n",
    "    R = (KRq_theta @ Rbc).subs({\"x\": x, \"y\": y, \"b\": b, \"c\": c})\n",
    "    R = np.array(R / k, dtype=np.float64)\n",
    "    R = np.diag([1 / f, 1 / f, 1]) @ R\n",
    "\n",
    "    t3_value = np.array(t3[0].subs({\"b\": b, \"c\": c, \"x\": x, \"y\": y}), dtype=np.float64)\n",
    "    r3_value = np.array(r3.subs({\"b\": b, \"c\": c, \"x\": x, \"y\": y}), dtype=np.float64)\n",
    "\n",
    "    lambi_value = np.dot(r3_value.T, Xi[0].reshape(3, 1)) + t3_value\n",
    "    r1_value = np.array(r1.subs({\"b\": b, \"c\": c, \"x\": x, \"y\": y}), dtype=np.float64)\n",
    "    r2_value = np.array(r2.subs({\"b\": b, \"c\": c, \"x\": x, \"y\": y}), dtype=np.float64)\n",
    "    t1_value = lambi_value * ui[0] - np.dot(r1_value.T, Xi[0].reshape(3, 1))\n",
    "    t2_value = lambi_value * vi[0] - np.dot(r2_value.T, Xi[0].reshape(3, 1))\n",
    "\n",
    "    t1_value = np.array(t1_value).astype(np.float64).reshape(-1)\n",
    "    t2_value = np.array(t2_value).astype(np.float64).reshape(-1)\n",
    "    t3_value = np.array(t3_value).astype(np.float64).reshape(-1)\n",
    "    \n",
    "    t = ((1 / k)) * np.diag([1 / f, 1 / f, 1]) @ np.array([t1_value, t2_value, t3_value]).reshape(3, 1)\n",
    "\n",
    "    K = np.diag([f, f, 1])\n",
    "    Xp = np.dot(Xi, R.T) + t.reshape(1, 3)\n",
    "    Ui_rep = np.dot(K, Xp.T).T\n",
    "    Ui_rep = Ui_rep / Ui_rep[:, 2:3]\n",
    "\n",
    "    rep_err = np.linalg.norm(Ui_rep - Ui, axis=1)\n",
    "        \n",
    "    if np.average(rep_err) < min_err:\n",
    "        min_err = np.average(rep_err)\n",
    "        R_result = R\n",
    "        t_result = t\n",
    "        f_result = f"
   ]
  },
  {
   "cell_type": "code",
   "execution_count": 55,
   "metadata": {},
   "outputs": [
    {
     "name": "stdout",
     "output_type": "stream",
     "text": [
      "reprojection error: 1.480271082406342e-13\n"
     ]
    }
   ],
   "source": [
    "# reprojection error\n",
    "print(\"reprojection error:\", min_err)"
   ]
  },
  {
   "cell_type": "code",
   "execution_count": 56,
   "metadata": {},
   "outputs": [
    {
     "name": "stdout",
     "output_type": "stream",
     "text": [
      "Absolute Rotation Error: 3.1109265818524668e-15\n"
     ]
    }
   ],
   "source": [
    "# Absolute Rotation Error in degree\n",
    "r_err = np.linalg.norm(best_R @ R_gt.T - np.eye(3), ord='fro')\n",
    "print(\"Absolute Rotation Error:\", r_err)"
   ]
  },
  {
   "cell_type": "code",
   "execution_count": 57,
   "metadata": {},
   "outputs": [
    {
     "name": "stdout",
     "output_type": "stream",
     "text": [
      "Relative Translation Error: 3.6529617510443754e-14\n"
     ]
    }
   ],
   "source": [
    "# Relative Translation Error in percentage\n",
    "t_err = np.linalg.norm(best_t.reshape(-1) - t_gt.reshape(-1)) / np.linalg.norm(t)\n",
    "print(\"Relative Translation Error:\",t_err)"
   ]
  },
  {
   "cell_type": "code",
   "execution_count": 58,
   "metadata": {},
   "outputs": [
    {
     "name": "stdout",
     "output_type": "stream",
     "text": [
      "focal error: 8.668621376273222e-15\n"
     ]
    }
   ],
   "source": [
    "# Relative Focal Length Error in percentage\n",
    "f_err = np.abs(best_f - K_gt[0,0])/K_gt[0,0]\n",
    "print(\"focal error:\", f_err)"
   ]
  }
 ],
 "metadata": {
  "kernelspec": {
   "display_name": "gv",
   "language": "python",
   "name": "python3"
  },
  "language_info": {
   "codemirror_mode": {
    "name": "ipython",
    "version": 3
   },
   "file_extension": ".py",
   "mimetype": "text/x-python",
   "name": "python",
   "nbconvert_exporter": "python",
   "pygments_lexer": "ipython3",
   "version": "3.8.18"
  }
 },
 "nbformat": 4,
 "nbformat_minor": 2
}
